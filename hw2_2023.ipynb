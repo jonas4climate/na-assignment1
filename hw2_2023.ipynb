{
 "cells": [
  {
   "cell_type": "markdown",
   "id": "bca33f70-0324-4594-8998-08352cc65c9d",
   "metadata": {
    "nbgrader": {
     "grade": false,
     "grade_id": "cell-06d3e5bf55c941ae",
     "locked": true,
     "schema_version": 3,
     "solution": false,
     "task": false
    }
   },
   "source": [
    "# Homework set 2"
   ]
  },
  {
   "cell_type": "markdown",
   "id": "bfc44ed9-3b17-4f38-94fe-0f4d709ed1d6",
   "metadata": {
    "nbgrader": {
     "grade": false,
     "grade_id": "cell-b13bc5ed16bce8e0",
     "locked": true,
     "schema_version": 3,
     "solution": false,
     "task": false
    }
   },
   "source": [
    "# Exercise 0\n",
    "\n",
    "\n",
    "- Amir Sahrani (12661651)\n",
    "- Jonas Schäfer (14039982)\n",
    "\n"
   ]
  },
  {
   "cell_type": "markdown",
   "id": "71d93788-1857-48f1-bfff-8cf004cf1a5d",
   "metadata": {},
   "source": [
    "## Importing packages"
   ]
  },
  {
   "cell_type": "code",
   "execution_count": 2,
   "id": "0c56160e-301a-4888-b439-a45bc02b8171",
   "metadata": {},
   "outputs": [],
   "source": [
    "import math\n",
    "import numpy as np\n",
    "from numpy.linalg import norm, inv\n",
    "from scipy.sparse import csr_array\n",
    "from scipy.sparse.linalg import spsolve\n",
    "from scipy.linalg import solve\n",
    "import timeit\n",
    "import pandas as pd\n",
    "import matplotlib.pyplot as plt"
   ]
  },
  {
   "cell_type": "markdown",
   "id": "967cec69-1602-4c3c-9bff-871eabca2c8b",
   "metadata": {
    "tags": []
   },
   "source": [
    "# Sparse matrices"
   ]
  },
  {
   "cell_type": "markdown",
   "id": "651b9158-f983-4dd6-a478-2dd0456961ca",
   "metadata": {},
   "source": [
    "A matrix is called sparse if only a small fraction of the entries is nonzero. For such matrices, special data formats exist. `scipy.sparse` is the scipy package that implements such data formats and provides functionality such as the LU decomposition (in the subpackage `scipy.sparse.linalg`).\n",
    "\n",
    "As an example, we create the matrix \n",
    "\n",
    "$$\n",
    "\\begin{bmatrix}\n",
    "1 & 0 & 2 & 0 \\\\ \n",
    "0 & 3 & 0 & 0 \\\\\n",
    "0 & 0 & 4 & 5 \\\\\n",
    "0 & 0 & 0 & 6 \n",
    "\\end{bmatrix}\n",
    "$$\n",
    "\n",
    "in the so called compressed sparse row (CSR) format. As you can see, the arrays `row`, `col`, `data` contain the row and column coordinate and the value of each nonzero element respectively."
   ]
  },
  {
   "cell_type": "code",
   "execution_count": 3,
   "id": "d9090c65-724c-4bfc-a19c-85cd7314ca06",
   "metadata": {},
   "outputs": [
    {
     "name": "stdout",
     "output_type": "stream",
     "text": [
      "[[1. 0. 2. 0.]\n",
      " [0. 3. 0. 0.]\n",
      " [0. 0. 4. 5.]\n",
      " [0. 0. 0. 6.]]\n"
     ]
    }
   ],
   "source": [
    "# a sparse matrix with 6 nonzero entries\n",
    "row = np.array([0, 0, 1, 2, 2, 3])\n",
    "col = np.array([0, 2, 1, 2, 3, 3])\n",
    "data = np.array([1.0, 2, 3, 4, 5, 6])\n",
    "sparseA = csr_array((data, (row, col)), shape=(4, 4))\n",
    "\n",
    "# convert to a dense matrix. This allows us to print to screen in regular formatting\n",
    "denseA = sparseA.toarray()\n",
    "print(denseA)"
   ]
  },
  {
   "cell_type": "markdown",
   "id": "7bcb2618-8ec2-4cd2-86b3-786946719c20",
   "metadata": {},
   "source": [
    "For sparse matrices, a sparse data format is much more efficient in terms of storage than the standard array format. Because of this efficient storage, very large matrices of size $n \\times n$ with $n = 10^7$ or more can be stored in RAM for performing computations on regular computers. Often the number of nonzero elements per row is quite small, such as 10's or 100's nonzero elements per row. In a regular, dense format, such matrices would require a supercomputer or could not be stored.\n",
    "\n",
    "In the second exercise you have to use the package `scipy.sparse`, please look up the functions you need (or ask during class)."
   ]
  },
  {
   "cell_type": "markdown",
   "id": "485a0788-7ac3-41e5-afbb-2957220c6a2a",
   "metadata": {},
   "source": [
    "# Heath computer exercise 2.1"
   ]
  },
  {
   "cell_type": "markdown",
   "id": "d40e9755-32ad-42e6-bd4a-9066e36cf4f9",
   "metadata": {},
   "source": [
    "## (a)\n",
    "Show that the matrix\n",
    "$$ A = \\begin{bmatrix} \n",
    "0.1 & 0.2 & 0.3 \\\\\n",
    "0.4 & 0.5 & 0.6 \\\\\n",
    "0.7 & 0.8 & 0.9\n",
    "\\end{bmatrix}.$$\n",
    "is singular. Describe the set of solutions to the system $A x = b$ if\n",
    "$$ b = \\begin{bmatrix} 0.1 \\\\ 0.3 \\\\ 0.5 \\end{bmatrix}. $$\n",
    "(N.B. this is a pen-and-paper question.)\n"
   ]
  },
  {
   "cell_type": "markdown",
   "id": "044019bb-6f29-446c-8cf4-a65c7033cf6c",
   "metadata": {},
   "source": [
    "$$\n",
    "\\begin{aligned}\n",
    "    \\det A &=0.1\\cdot\\det\n",
    "    \\begin{bmatrix}\n",
    "        0.5&0.6\\\\\n",
    "        0.8&0.9\n",
    "    \\end{bmatrix} -0.2\\cdot\\det\n",
    "    \\begin{bmatrix}\n",
    "        0.4&0.6\\\\\n",
    "        0.7&0.9\n",
    "    \\end{bmatrix}+0.3\n",
    "    \\begin{bmatrix}\n",
    "    0.4&0.5\\\\\n",
    "    0.7&0.8\n",
    "    \\end{bmatrix}\\\\\n",
    "    &=0.1\\cdot(0.45-0.48)-0.2\\cdot(0.36-0.42)+0.3\\cdot(0.32-0.35)\\\\\n",
    "    &=0.1\\cdot(-0.09)-0.2\\cdot(-0.06)+0.3(-0.03)\\\\\n",
    "    &=-0.003+0.012-0.009\\\\\n",
    "    &=0\n",
    "\\end{aligned}\n",
    "$$"
   ]
  },
  {
   "cell_type": "markdown",
   "id": "14074eea-48d7-49e6-81b1-5fadeaeec111",
   "metadata": {},
   "source": [
    "## (b)\n",
    "If we were to use Gaussian elimination with partial pivoting to solve this system using exact arithmetic, at what point would the process fail?\n"
   ]
  },
  {
   "cell_type": "markdown",
   "id": "05aa07a1-da53-4f43-bad8-8be6c55e0c39",
   "metadata": {},
   "source": [
    "$$\n",
    "\\begin{bmatrix}\n",
    "    0.1&0.2&0.3&0.1\\\\\n",
    "    0.4&0.5&0.4&0.5\\\\\n",
    "    0.7&0.8&0.9&0.5\n",
    "\\end{bmatrix}\n",
    "=\n",
    "\\begin{bmatrix}\n",
    "    0.1&0.2&0.3&0.1\\\\\n",
    "    0.0&-0.3&-0.6&-0.1\\\\\n",
    "    0.0&-0.6&-1.2&-0.2\n",
    "\\end{bmatrix}\n",
    "=\n",
    "\\begin{bmatrix}\n",
    "    1&2&3&1\\\\\n",
    "    0&3&6&1\\\\\n",
    "    0&0&0&0\n",
    "\\end{bmatrix}\n",
    "\n",
    "\\Rightarrow\n",
    "\n",
    "\\left\\{\n",
    "    \\begin{array}{l}\n",
    "        x_1 + 2x_2 + 3x_3 = 1 &\\\\\n",
    "        3x_2 + 6x_3 = 1\n",
    "    \\end{array} \n",
    "\\right.\n",
    "\\Leftrightarrow\n",
    "\\left\\{\n",
    "    \\begin{array}{l}\n",
    "        x_1 = 1 - 2x_2 - 3x_3 &\\\\\n",
    "        x_2 = \\frac{1}{3} - 2x_3\n",
    "    \\end{array} \n",
    "\\right.\n",
    "$$\n",
    "\n",
    "The result would fail when trying to get a pivot in the last row, because this row and the row above it will be identical, you would be left with no pivots in to bottom row and have infinetly many solutions"
   ]
  },
  {
   "cell_type": "markdown",
   "id": "85c1ae38-f504-47eb-a1d6-eec193e32878",
   "metadata": {},
   "source": [
    "## (c)\n",
    "Because some of the entries of $A$ are not exactly representable in a binary floating point system, the matrix is no longer exactly singular when entered into a computer; thus, solving the system by Gaussian elimination will not necessarily fail. Solve this system on a computer using a library routine for Gaussian elimination. Compare the computed solution with your description of the solution set in part (a). What is the estimated value for $\\text{cond}(A)$? How many digits of accuracy in the solution would this lead you to expect?"
   ]
  },
  {
   "cell_type": "code",
   "execution_count": 4,
   "metadata": {},
   "outputs": [],
   "source": [
    "def solve_cantilevered_beam_matrix(A, b, n, method):\n",
    "    match(method):\n",
    "        case 'default':\n",
    "            sol = solve(A, b)\n",
    "            return sol, A\n",
    "        case 'sparse':\n",
    "            sparse_A = csr_array(A)\n",
    "            sol = spsolve(sparse_A, b)\n",
    "            return sol, sparse_A\n",
    "        case _:\n",
    "            raise ValueError('method must be either default or sparse')\n"
   ]
  },
  {
   "cell_type": "code",
   "execution_count": 5,
   "id": "1d6808a3-aecd-4ebe-aa79-5ddcbff09c17",
   "metadata": {},
   "outputs": [
    {
     "name": "stdout",
     "output_type": "stream",
     "text": [
      "[ 0.06327986  0.87344029 -0.27005348]\n",
      "cond = 6.830458856948811e+16\n",
      "55.92283201741718\n",
      "16.83444987972064\n"
     ]
    },
    {
     "name": "stderr",
     "output_type": "stream",
     "text": [
      "/var/folders/tg/bfb__1d16td__2vd879zjkrh0000gn/T/ipykernel_21828/1548043784.py:6: LinAlgWarning: Ill-conditioned matrix (rcond=1.02982e-17): result may not be accurate.\n",
      "  sol = solve(A, b)\n"
     ]
    },
    {
     "data": {
      "image/png": "[encoded data removed]",
      "text/plain": [
       "<Figure size 640x480 with 1 Axes>"
      ]
     },
     "metadata": {},
     "output_type": "display_data"
    }
   ],
   "source": [
    "A = np.matrix([[0.1, 0.2, 0.3],\n",
    "               [0.4, 0.5, 0.6],\n",
    "               [0.7, 0.8, 0.9]])\n",
    "b = np.array([0.1, 0.3, 0.5])\n",
    "cond = norm(A)*norm(inv(A))\n",
    "sol = solve(A, b)\n",
    "print(sol)\n",
    "print(f'cond = {cond}')\n",
    "print(np.log2(cond))\n",
    "print(np.log10(cond))\n",
    "\n",
    "\n",
    "diffs = []\n",
    "for i in range(-10,10):\n",
    "    b_hat = b + i*10**-8\n",
    "    sol_hat = solve_cantilevered_beam_matrix(A, b_hat, 0, 'sparse')[0]\n",
    "    diffs.append(sum(sol_hat-sol))\n",
    "\n",
    "    \n",
    "plt.plot(np.arange(-10,10)*10**-8, diffs, marker='o', linestyle='-', color='#93bfb6', label='Differences')\n",
    "plt.title('The effect of a change in $\\mathbf{b}$ on $\\mathbf{x}$' )\n",
    "plt.xlabel('change in $\\mathbf{b}$')\n",
    "plt.ylabel('Change in $\\mathbf{x}$')\n",
    "plt.grid(True)\n",
    "plt.show()"
   ]
  },
  {
   "cell_type": "markdown",
   "id": "32537b21-ef0e-4d21-83ec-630d7c6ef4ac",
   "metadata": {},
   "source": [
    "We find that\n",
    "$$x = \\begin{bmatrix}0.06327986\\\\0.87344029\\\\-0.27005348\\end{bmatrix}$$\n",
    "with a condition number of $6.8 \\times 10^{16}$ using the product of the norm of matrix $A$ with the norm of its inverse. This results in the 16 digits of lost accuaracy in base 10, or roughly 60 in base 2.This means that in any floating point computation we can expect about 55 significant digits of lost precision to be the upperbound of our accuracy loss. \n",
    "\n",
    "Looking at the plot, we can see that our results around b are highly unstable, and are on the change of x is on the scale of our loss of accuracy."
   ]
  },
  {
   "cell_type": "markdown",
   "id": "46c99b9d-1ab5-49ae-9fa9-805bb984e4a5",
   "metadata": {},
   "source": [
    "# Heath computer exercise 2.17"
   ]
  },
  {
   "cell_type": "markdown",
   "id": "aad5ecf6-4902-4e39-af7c-20fae6a41eb5",
   "metadata": {},
   "source": [
    "Consider a horizontal cantilevered beam that is clamped at one end but free along the remainder of its length. A discrete model of the forces on the beam yields a system of linear equations $A x = b$, where the $n \\times n$ matrix $A$ has the banded form\n",
    "$$\n",
    "\\begin{bmatrix}\n",
    " 9 & -4     &  1 &  0 & \\ldots & \\ldots & 0 \\\\\n",
    "-4 &  6     & -4 &  1 & \\ddots && \\vdots \\\\\n",
    " 1 & -4     &  6 & -4 &  1 & \\ddots & \\vdots \\\\\n",
    " 0 & \\ddots & \\ddots & \\ddots & \\ddots & \\ddots & 0 \\\\\n",
    " \\vdots & \\ddots & 1 & -4 &  6 & -4 &  1 \\\\ \n",
    " \\vdots && \\ddots    &  1 & -4 &  5 & -2 \\\\\n",
    " 0 & \\ldots & \\ldots & 0 & 1 & -2 & 1 \n",
    "\\end{bmatrix}, $$\n",
    "the $n$-vector $b$ is the known load on the bar (including its own weight), and the $n$-vector $x$ represents the resulting deflection of the bar that is to be determined. We will take the bar to be uniformly loaded, with $b_i = 1/n^4$ for each component of the load vector.\n"
   ]
  },
  {
   "cell_type": "markdown",
   "id": "0c3221df-1706-4536-9d13-900af379a450",
   "metadata": {},
   "source": [
    "## (a)\n",
    "Make a python function that creates the matrix $A$ given the size $n$."
   ]
  },
  {
   "cell_type": "code",
   "execution_count": 6,
   "id": "c9753d31-5888-4de1-8ebe-39b55f413932",
   "metadata": {},
   "outputs": [
    {
     "name": "stdout",
     "output_type": "stream",
     "text": [
      "[[ 9. -4.  1.  0.  0.  0.]\n",
      " [-4.  6. -4.  1.  0.  0.]\n",
      " [ 1. -4.  6. -4.  1.  0.]\n",
      " [ 0.  1. -4.  6. -4.  1.]\n",
      " [ 0.  0.  1. -4.  5. -2.]\n",
      " [ 0.  0.  0.  1. -2.  1.]]\n"
     ]
    }
   ],
   "source": [
    "def cantilevered_beam_matrix(n):\n",
    "    main_diag = 6 * np.ones(n)\n",
    "    main_diag[[0, -2, -1]] = [9, 5, 1]\n",
    "    middle_diag = -4 * np.ones(n-1)\n",
    "    middle_diag[-1] = -2\n",
    "    upper_diag = np.ones(n-2)\n",
    "    A = np.diag(main_diag) + np.diag(middle_diag, k=1) + np.diag(upper_diag,\n",
    "                                                                 k=2) + np.diag(middle_diag, k=-1) + np.diag(upper_diag, k=-2)\n",
    "    return A\n",
    "\n",
    "\n",
    "def get_b(n):\n",
    "    return np.ones(n)/n**4\n",
    "\n",
    "print(cantilevered_beam_matrix(6))"
   ]
  },
  {
   "cell_type": "markdown",
   "id": "3a7511aa-c209-4803-96a4-6743b5f52626",
   "metadata": {},
   "source": [
    "## (b)\n",
    "\n",
    "Solve this linear system using both a standard library routine for dense linear systems and a library routine designed for sparse linear systems. Take $n=100$ and $n=1000$. How do the two routines compare in the time required to compute the solution? And in the memory occupied by the LU decomposition? (Hint: as part of this assignment, look for the number of nonzero elements in the matrices $L$ and $U$ of the sparse LU decomposition.)"
   ]
  },
  {
   "cell_type": "code",
   "execution_count": 7,
   "id": "7e2da1b5-74b5-4490-b590-9604040c8aba",
   "metadata": {},
   "outputs": [
    {
     "name": "stdout",
     "output_type": "stream",
     "text": [
      "Difference of solutions between default and sparse matrix decomposition\n",
      "for n=100: 5.632e-11\n",
      "for n=1000: 4.315e-06\n"
     ]
    },
    {
     "data": {
      "text/html": [
       "<div>\n",
       "<style scoped>\n",
       "    .dataframe tbody tr th:only-of-type {\n",
       "        vertical-align: middle;\n",
       "    }\n",
       "\n",
       "    .dataframe tbody tr th {\n",
       "        vertical-align: top;\n",
       "    }\n",
       "\n",
       "    .dataframe thead th {\n",
       "        text-align: right;\n",
       "    }\n",
       "</style>\n",
       "<table border=\"1\" class=\"dataframe\">\n",
       "  <thead>\n",
       "    <tr style=\"text-align: right;\">\n",
       "      <th></th>\n",
       "      <th>method</th>\n",
       "      <th>n</th>\n",
       "      <th>nonzero entries</th>\n",
       "      <th>average runtime (in ms)</th>\n",
       "      <th>memory (in bytes)</th>\n",
       "    </tr>\n",
       "  </thead>\n",
       "  <tbody>\n",
       "    <tr>\n",
       "      <th>0</th>\n",
       "      <td>default</td>\n",
       "      <td>100</td>\n",
       "      <td>494</td>\n",
       "      <td>0.294</td>\n",
       "      <td>80000</td>\n",
       "    </tr>\n",
       "    <tr>\n",
       "      <th>1</th>\n",
       "      <td>sparse</td>\n",
       "      <td>100</td>\n",
       "      <td>494</td>\n",
       "      <td>0.250</td>\n",
       "      <td>3952</td>\n",
       "    </tr>\n",
       "    <tr>\n",
       "      <th>2</th>\n",
       "      <td>default</td>\n",
       "      <td>1000</td>\n",
       "      <td>4994</td>\n",
       "      <td>20.833</td>\n",
       "      <td>8000000</td>\n",
       "    </tr>\n",
       "    <tr>\n",
       "      <th>3</th>\n",
       "      <td>sparse</td>\n",
       "      <td>1000</td>\n",
       "      <td>4994</td>\n",
       "      <td>5.325</td>\n",
       "      <td>39952</td>\n",
       "    </tr>\n",
       "  </tbody>\n",
       "</table>\n",
       "</div>"
      ],
      "text/plain": [
       "    method     n  nonzero entries average runtime (in ms)  memory (in bytes)\n",
       "0  default   100              494                   0.294              80000\n",
       "1   sparse   100              494                   0.250               3952\n",
       "2  default  1000             4994                  20.833            8000000\n",
       "3   sparse  1000             4994                   5.325              39952"
      ]
     },
     "execution_count": 7,
     "metadata": {},
     "output_type": "execute_result"
    }
   ],
   "source": [
    "\n",
    "\n",
    "def cantilevered_comparison(N_sim=100):\n",
    "    global A\n",
    "    global b\n",
    "    A = cantilevered_beam_matrix(100)\n",
    "    b = get_b(100)\n",
    "    time_default_100 = timeit.timeit(\"solve_cantilevered_beam_matrix(A, b, 100, 'default')\", number=N_sim, globals=globals()) / N_sim\n",
    "    sol_100_default, A_100_default = solve_cantilevered_beam_matrix(A, b, 100, 'default')\n",
    "    mem_100_default, nonzero_100_default = A_100_default.data.nbytes, np.count_nonzero(A_100_default.data)\n",
    "    time_sparse_100 = timeit.timeit(\"solve_cantilevered_beam_matrix(A, b, 100, 'sparse')\", number=N_sim, globals=globals()) / N_sim\n",
    "    sol_100_sparse, A_100_sparse = solve_cantilevered_beam_matrix(A, b, 100, 'sparse')\n",
    "    A = cantilevered_beam_matrix(1000)\n",
    "    b = get_b(1000)\n",
    "    mem_100_sparse, nonzero_100_sparse = A_100_sparse.data.nbytes, np.count_nonzero(A_100_sparse.data)\n",
    "    time_default_1000 = timeit.timeit(\"solve_cantilevered_beam_matrix(A, b, 1000, 'default')\", number=N_sim, globals=globals()) / N_sim\n",
    "    sol_1000_default, A_1000_default = solve_cantilevered_beam_matrix(A, b, 1000, 'default')\n",
    "    mem_1000_default, nonzero_1000_default = A_1000_default.data.nbytes, np.count_nonzero(A_1000_default.data)\n",
    "    time_sparse_1000 = timeit.timeit(\"solve_cantilevered_beam_matrix(A, b, 1000, 'sparse')\", number=N_sim, globals=globals()) / N_sim\n",
    "    sol_1000_sparse, A_1000_sparse = solve_cantilevered_beam_matrix(A, b, 1000, 'sparse')\n",
    "    mem_1000_sparse, nonzero_1000_sparse = A_1000_sparse.data.nbytes, np.count_nonzero(A_1000_sparse.data)\n",
    "    data_table = pd.DataFrame({'method': ['default', 'sparse', 'default', 'sparse'],\n",
    "                            'n': [100, 100, 1000, 1000],\n",
    "                            'nonzero entries': [nonzero_100_default, nonzero_100_sparse, nonzero_1000_default, nonzero_1000_sparse],\n",
    "                            'average runtime (in ms)': [f'{time*1000:.3f}' for time in [time_default_100, time_sparse_100, time_default_1000, time_sparse_1000]],\n",
    "                            'memory (in bytes)': [mem_100_default, mem_100_sparse, mem_1000_default, mem_1000_sparse],})\n",
    "    print('Difference of solutions between default and sparse matrix decomposition')\n",
    "    print(f'for n=100: {norm(sol_100_default-sol_100_sparse):.3e}\\nfor n=1000: {norm(sol_1000_default-sol_1000_sparse):.3e}')\n",
    "    return data_table\n",
    "\n",
    "data_table = cantilevered_comparison(100)\n",
    "data_table"
   ]
  },
  {
   "cell_type": "markdown",
   "id": "9decc62c-feb5-4afb-bfba-0b8a19af5be3",
   "metadata": {},
   "source": [
    "As we can observe from the table above, thwe find that the LU decomposition using the sparse matrix both cuts our average runtime roughly in half compared to our default method, as well as massively decreases the memory required due to the low number of non-zero entries."
   ]
  },
  {
   "cell_type": "markdown",
   "id": "8ebb2590-2f08-4362-aef6-f334eedbf306",
   "metadata": {},
   "source": [
    "## (c)\n",
    "For $n=100$, what is the condition number? What accuracy do you expect based on the condition number?"
   ]
  },
  {
   "cell_type": "code",
   "execution_count": 8,
   "id": "d71e4897-2b95-44de-88a0-029c89a24609",
   "metadata": {},
   "outputs": [
    {
     "name": "stdout",
     "output_type": "stream",
     "text": [
      "Condition number: 2.142e+13\n",
      "Number of significant digits lost in base 2: 44.284\n",
      "Number of significant digits lost in base 10: 13.331\n"
     ]
    }
   ],
   "source": [
    "def condition_number(A):\n",
    "    return norm(A) * norm(inv(A))\n",
    "\n",
    "A = cantilevered_beam_matrix(1000)\n",
    "cond = condition_number(A)\n",
    "print(f'Condition number: {cond:.3e}')\n",
    "\n",
    "print(f'Number of significant digits lost in base 2: {np.log2(cond):.3f}')\n",
    "print(f'Number of significant digits lost in base 10: {np.log10(cond):.3f}')"
   ]
  },
  {
   "cell_type": "markdown",
   "id": "6f316041-7f14-48dd-a458-3a01fe87daa3",
   "metadata": {},
   "source": [
    "A large condition number shows us that A is ill-conditioned and decreases the numerical stability of the decompostion and thus reliability of the computed results to our system of equations. We can clearly observe a relatively high condition number, altough not as high as our singular matrix. We expect to lose at most 9 significant digits in base 10, and 30 in base 2. This is an upperbound for our loss in accuracy, and does not guarantee inaccurate results. But in the worst case we could still lose a lot of accuracy, "
   ]
  },
  {
   "cell_type": "markdown",
   "id": "c2a94aca-a8cc-407c-9212-3b09e9bd850e",
   "metadata": {},
   "source": [
    "## (d)\n",
    "How well do the answers of (b) agree with each other (make an appropriate quantitative comparison)?\n",
    "\n",
    "Should we be worried about the fact that the two answers are different?"
   ]
  },
  {
   "cell_type": "code",
   "execution_count": 15,
   "id": "9d8d9237",
   "metadata": {},
   "outputs": [
    {
     "data": {
      "image/png": "[encoded data removed]",
      "text/plain": [
       "<Figure size 1200x500 with 2 Axes>"
      ]
     },
     "metadata": {},
     "output_type": "display_data"
    }
   ],
   "source": [
    "def get_diffs(n, method):\n",
    "    b = get_b(n)\n",
    "    A = cantilevered_beam_matrix(n)\n",
    "    sol = solve_cantilevered_beam_matrix(A, b, 0, method)[0]\n",
    "    diffs = []\n",
    "    for i in range(-10,10):\n",
    "        b_hat = b + i*10**-8\n",
    "        sol_hat = solve_cantilevered_beam_matrix(A, b_hat, 0, method)[0]\n",
    "        diffs.append(sum(sol_hat-sol)/n)\n",
    "    return diffs\n",
    "\n",
    "diffs_sparse_100 = get_diffs(100, 'sparse')\n",
    "diffs_sparse_1000 = get_diffs(1000, 'sparse') \n",
    "diffs_dense_100 = get_diffs(100, 'default')\n",
    "diffs_dense_1000 = get_diffs(1000, 'default')\n",
    "\n",
    "fig, axs = plt.subplots(1, 2, figsize=(12, 5))\n",
    "\n",
    "axs[0].plot(np.arange(-10, 10) * 10**-8, diffs_sparse_100, marker='o', linestyle='-', color='#93bfb6', label='Sparse')\n",
    "axs[0].plot(np.arange(-10, 10) * 10**-8, diffs_dense_100, marker='o', linestyle='-', color='#4f7942', label='Dense')\n",
    "axs[0].set_title('Effect of a change in $\\\\mathbf{b}$ on $\\\\mathbf{x}$ (n=100)')\n",
    "axs[0].set_xlabel('Change in $\\\\mathbf{b}$')\n",
    "axs[0].set_ylabel('Change in $\\\\mathbf{x}$')\n",
    "axs[0].legend()\n",
    "axs[0].grid(True)\n",
    "\n",
    "axs[1].plot(np.arange(-10, 10) * 10**-8, diffs_sparse_1000, marker='o', linestyle='-', color='#c78387', label='Sparse')\n",
    "axs[1].plot(np.arange(-10, 10) * 10**-8, diffs_dense_1000, marker='o', linestyle='-', color='#d6616b', label='Dense')\n",
    "axs[1].set_title('Effect of a change in $\\\\mathbf{b}$ on $\\\\mathbf{x}$ (n=1000)')\n",
    "axs[1].set_xlabel('Change in $\\\\mathbf{b}$')\n",
    "axs[1].set_ylabel('Change in $\\\\mathbf{x}$')\n",
    "axs[1].legend()\n",
    "axs[1].grid(True)\n",
    "\n",
    "# plt.tight_layout()\n",
    "plt.show()"
   ]
  },
  {
   "cell_type": "markdown",
   "id": "02317207-3944-4be0-a8e6-29d81d007b00",
   "metadata": {},
   "source": [
    "As we see in our statistical analysis of (b), for $n=100$ we observed a difference of `5.632e-11` and for $n=1000$ a difference of `4.315e-06`. Although these errors might be large in certain contexts, for the stated problem the change of x is very insentive to a change in b, a change in $\\mathbf{b}$ of the order $10^{-7}$ results in a change in $\\mathbf{x}$ in the order of $10^{-9}$. This order of magnitude is smaller than the difference we found between the sparse and dense matrices, but it seem that this is not preventing us from getting stable and accurate results around $\\mathbf{b}$. These numerical differences are very small, but the differences in memory usage and computation time for large matrices is substantial. This all leads us to conclude that whereever possible, sparse matrices should be used."
   ]
  },
  {
   "cell_type": "markdown",
   "metadata": {},
   "source": []
  }
 ],
 "metadata": {
  "kernelspec": {
   "display_name": "Python 3 (ipykernel)",
   "language": "python",
   "name": "python3"
  },
  "language_info": {
   "codemirror_mode": {
    "name": "ipython",
    "version": 3
   },
   "file_extension": ".py",
   "mimetype": "text/x-python",
   "name": "python",
   "nbconvert_exporter": "python",
   "pygments_lexer": "ipython3",
   "version": "3.11.4"
  }
 },
 "nbformat": 4,
 "nbformat_minor": 5
}
